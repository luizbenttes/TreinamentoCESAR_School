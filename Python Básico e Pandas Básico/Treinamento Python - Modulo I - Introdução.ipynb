{
 "cells": [
  {
   "cell_type": "markdown",
   "metadata": {},
   "source": [
    "## Treinamento Python\n",
    "\n",
    "Este treinamento tem como objetivo apresentar a linguagem Python bem como sua estrutura sintática, funcionalidades e benefícos. Por se tratar de uma linguagem mais versátil, ela é muito empregada em diversos contextos indo de programação básica até processamento de imagens de buracos negros.\n",
    "\n",
    "Espero que gostem e que seja muito útil na vida profissional de vocês ;)\n",
    "\n",
    "Vamos começar!\n",
    "\n",
    "- Autor: Luiz Eduardo Fernandes Bentes\n",
    "- Data: 26/11/2019\n",
    "- Carga Horária: 6h"
   ]
  },
  {
   "cell_type": "markdown",
   "metadata": {},
   "source": [
    "### Capítulo I: Introdução às maravilhas do Python\n",
    "\n",
    "Ementa:\n",
    "- Variáveis\n",
    "- Operadores\n",
    "- Laços de repetição\n",
    "- Controle de Fluxo\n",
    "- Importação de módulos\n",
    "- Declaração de funções"
   ]
  },
  {
   "cell_type": "markdown",
   "metadata": {},
   "source": [
    "### 1.1 Variáveis\n",
    "\n",
    "Em Python, não há declaração de variável.\n",
    "\n",
    "Regras de nome de variável:\n",
    "- Não pode conter caracteres especiais\n",
    "- Não pode conter espaço\n",
    "- Não pode começar com número"
   ]
  },
  {
   "cell_type": "markdown",
   "metadata": {},
   "source": [
    "### 1.2 Operadores\n",
    "\n",
    "Há três tipos de operadores: aritméticos, booleanos e comparadores.\n",
    "- Aritiméticos: realizam operações aritiméticas entre variáveis (ou valores)\n",
    "- Booleanos: realizam comparações booleanas\n",
    "- Comparadores: realizam comparações entre dois únicos valores e retorna apenas um valor "
   ]
  },
  {
   "cell_type": "markdown",
   "metadata": {},
   "source": [
    "### 1.3 Controle de Fluxo\n",
    "\n",
    "\n",
    "O tipo mais comum de fluxo de controle é o __if__. \n",
    "\n",
    "\n",
    "As declarações de controle de fluxo geralmente começam com uma parte chamada _condição_ (o __if__) e todas são seguidos por um bloco de código chamado _cláusula_ (tudo que estiver dentro do bloco)."
   ]
  },
  {
   "cell_type": "markdown",
   "metadata": {},
   "source": [
    "### 1.4 Laços de Repetição\n",
    "\n",
    "O Python tem dois laços de repetição: _for_ e _while_"
   ]
  },
  {
   "cell_type": "markdown",
   "metadata": {},
   "source": [
    "### 1.5 Importando Módulos\n",
    "\n",
    "Python também vem com um conjunto de módulos chamado de biblioteca padrão. \n",
    "\n",
    "Cada módulo é um programa Python que contém um grupo relacionado de funções que podem ser incorporado nos seus programas."
   ]
  },
  {
   "cell_type": "markdown",
   "metadata": {},
   "source": [
    "### 1.6 Funções\n",
    "\n",
    "Uma função é um mini-programa dentro de um programa. Geralmente é uma parte do código que é utilizada em diversos pontos do programa. \n",
    "\n",
    "- Estrutura de uma função: __def__ nome_da_funcao (_podendo ou não haver atributos_)__:__\n",
    "\n"
   ]
  },
  {
   "cell_type": "markdown",
   "metadata": {},
   "source": [
    "### 1.7 Lista e Tuplas\n",
    "\n",
    "\n",
    "Uma lista é um valor que contém vários valores em uma sequência ordenada."
   ]
  },
  {
   "cell_type": "markdown",
   "metadata": {},
   "source": [
    "### 1.8 Dicionários\n",
    "\n",
    "Como uma lista, um dicionário é uma coleção de muitos valores. Mas, diferentemente dos índices para\n",
    "listas, índices para dicionários podem usar muitos tipos de dados diferentes, não apenas\n",
    "inteiros."
   ]
  },
  {
   "cell_type": "markdown",
   "metadata": {},
   "source": [
    "### Jogo da Velha\n",
    "\n",
    "Vamos utilizar um pouco do que aprendemos até agora"
   ]
  }
 ],
 "metadata": {
  "kernelspec": {
   "display_name": "Python 3",
   "language": "python",
   "name": "python3"
  },
  "language_info": {
   "codemirror_mode": {
    "name": "ipython",
    "version": 3
   },
   "file_extension": ".py",
   "mimetype": "text/x-python",
   "name": "python",
   "nbconvert_exporter": "python",
   "pygments_lexer": "ipython3",
   "version": "3.7.1"
  }
 },
 "nbformat": 4,
 "nbformat_minor": 2
}
